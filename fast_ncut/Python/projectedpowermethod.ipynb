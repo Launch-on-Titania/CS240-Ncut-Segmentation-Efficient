{
 "cells": [
  {
   "cell_type": "markdown",
   "metadata": {},
   "source": [
    "## Simple Problem"
   ]
  },
  {
   "cell_type": "code",
   "execution_count": 1,
   "metadata": {},
   "outputs": [
    {
     "name": "stdout",
     "output_type": "stream",
     "text": [
      "1th element  and 2th element be same value in the eigen vector.\n",
      "1th element  and 3th element be same value in the eigen vector.\n",
      "***Projected Power Method***\n",
      " Iteration : 1 residual : 4.303937336545527\n",
      " Iteration : 2 residual : 0.5438682426209729\n",
      " Iteration : 3 residual : 0.0\n",
      "constrained eigen vector : \n",
      " [[1.34164079]\n",
      " [1.34164079]\n",
      " [1.34164079]]\n"
     ]
    }
   ],
   "source": [
    "import numpy as np\n",
    "import matplotlib.pyplot as plt\n",
    "from fastncut import FastNcut\n",
    "\n",
    "# all element be same value\n",
    "const = np.array([[0,1],[0,2]])\n",
    "A = np.array([[2, 0, 0],[0, 1, 0],[0, 0, 0]])\n",
    "model  = FastNcut(const=const)\n",
    "model.fit(A)"
   ]
  },
  {
   "cell_type": "code",
   "execution_count": 2,
   "metadata": {},
   "outputs": [
    {
     "name": "stdout",
     "output_type": "stream",
     "text": [
      "1th element  and 2th element be same value in the eigen vector.\n",
      "***Projected Power Method***\n",
      " Iteration : 1 residual : 5.5045227422206615\n",
      " Iteration : 2 residual : 0.597672336063205\n",
      " Iteration : 3 residual : 0.0\n",
      "constrained eigen vector : \n",
      " [[1.34164079]\n",
      " [1.34164079]\n",
      " [0.        ]]\n"
     ]
    }
   ],
   "source": [
    "# all element be same value\n",
    "const = np.array([[0,1]])\n",
    "model  = FastNcut(const=const)\n",
    "model.fit(A)"
   ]
  },
  {
   "cell_type": "code",
   "execution_count": 4,
   "metadata": {},
   "outputs": [
    {
     "name": "stdout",
     "output_type": "stream",
     "text": [
      "1th element  and 3th element be same value in the eigen vector.\n",
      "***Projected Power Method***\n",
      " Iteration : 1 residual : 0.13748389401327876\n",
      " Iteration : 2 residual : 2.220446049250313e-16\n",
      "constrained eigen vector : \n",
      " [[0.18616554]\n",
      " [0.98251839]\n",
      " [0.18616554]]\n"
     ]
    }
   ],
   "source": [
    "# all element be same value\n",
    "const = np.array([[0,2]])\n",
    "model  = FastNcut(const=const)\n",
    "model.fit(A)"
   ]
  },
  {
   "cell_type": "code",
   "execution_count": 5,
   "metadata": {},
   "outputs": [
    {
     "data": {
      "text/plain": [
       "array([[0.],\n",
       "       [0.],\n",
       "       [0.]])"
      ]
     },
     "execution_count": 5,
     "metadata": {},
     "output_type": "execute_result"
    }
   ],
   "source": [
    "np.zeros([3,1])"
   ]
  },
  {
   "cell_type": "code",
   "execution_count": 7,
   "metadata": {
    "collapsed": true
   },
   "outputs": [],
   "source": [
    "a,b = 1,2"
   ]
  },
  {
   "cell_type": "code",
   "execution_count": 8,
   "metadata": {},
   "outputs": [
    {
     "data": {
      "text/plain": [
       "1"
      ]
     },
     "execution_count": 8,
     "metadata": {},
     "output_type": "execute_result"
    }
   ],
   "source": [
    "a"
   ]
  },
  {
   "cell_type": "code",
   "execution_count": 9,
   "metadata": {},
   "outputs": [
    {
     "data": {
      "text/plain": [
       "2"
      ]
     },
     "execution_count": 9,
     "metadata": {},
     "output_type": "execute_result"
    }
   ],
   "source": [
    "b"
   ]
  },
  {
   "cell_type": "code",
   "execution_count": 10,
   "metadata": {
    "collapsed": true
   },
   "outputs": [],
   "source": [
    "a,b = [0,1]"
   ]
  },
  {
   "cell_type": "code",
   "execution_count": 11,
   "metadata": {},
   "outputs": [
    {
     "data": {
      "text/plain": [
       "0"
      ]
     },
     "execution_count": 11,
     "metadata": {},
     "output_type": "execute_result"
    }
   ],
   "source": [
    "a"
   ]
  },
  {
   "cell_type": "code",
   "execution_count": 12,
   "metadata": {},
   "outputs": [
    {
     "data": {
      "text/plain": [
       "1"
      ]
     },
     "execution_count": 12,
     "metadata": {},
     "output_type": "execute_result"
    }
   ],
   "source": [
    "b"
   ]
  },
  {
   "cell_type": "code",
   "execution_count": null,
   "metadata": {
    "collapsed": true
   },
   "outputs": [],
   "source": []
  }
 ],
 "metadata": {
  "kernelspec": {
   "display_name": "Python 3",
   "language": "python",
   "name": "python3"
  },
  "language_info": {
   "codemirror_mode": {
    "name": "ipython",
    "version": 3
   },
   "file_extension": ".py",
   "mimetype": "text/x-python",
   "name": "python",
   "nbconvert_exporter": "python",
   "pygments_lexer": "ipython3",
   "version": "3.8.18"
  }
 },
 "nbformat": 4,
 "nbformat_minor": 2
}
